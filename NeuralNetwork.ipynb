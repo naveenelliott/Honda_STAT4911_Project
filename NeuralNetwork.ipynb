{
 "cells": [
  {
   "cell_type": "markdown",
   "metadata": {},
   "source": [
    "Creating a Neural Network"
   ]
  },
  {
   "cell_type": "code",
   "execution_count": null,
   "metadata": {},
   "outputs": [
    {
     "name": "stdout",
     "output_type": "stream",
     "text": [
      "Collecting torch\n",
      "  Using cached torch-2.6.0-cp39-cp39-win_amd64.whl (204.1 MB)\n",
      "Requirement already satisfied: networkx in c:\\users\\owner\\onedrive - the ohio state university\\documents\\anaconda\\lib\\site-packages (from torch) (2.8.4)\n",
      "Requirement already satisfied: jinja2 in c:\\users\\owner\\onedrive - the ohio state university\\documents\\anaconda\\lib\\site-packages (from torch) (2.11.3)\n",
      "Requirement already satisfied: filelock in c:\\users\\owner\\onedrive - the ohio state university\\documents\\anaconda\\lib\\site-packages (from torch) (3.6.0)\n",
      "Requirement already satisfied: sympy==1.13.1 in c:\\users\\owner\\onedrive - the ohio state university\\documents\\anaconda\\lib\\site-packages (from torch) (1.13.1)\n",
      "Requirement already satisfied: typing-extensions>=4.10.0 in c:\\users\\owner\\onedrive - the ohio state university\\documents\\anaconda\\lib\\site-packages (from torch) (4.12.2)\n",
      "Requirement already satisfied: fsspec in c:\\users\\owner\\onedrive - the ohio state university\\documents\\anaconda\\lib\\site-packages (from torch) (2022.7.1)\n",
      "Requirement already satisfied: mpmath<1.4,>=1.1.0 in c:\\users\\owner\\onedrive - the ohio state university\\documents\\anaconda\\lib\\site-packages (from sympy==1.13.1->torch) (1.2.1)\n",
      "Requirement already satisfied: MarkupSafe>=0.23 in c:\\users\\owner\\onedrive - the ohio state university\\documents\\anaconda\\lib\\site-packages (from jinja2->torch) (2.0.1)\n",
      "Installing collected packages: torch\n",
      "Successfully installed torch-2.6.0\n"
     ]
    },
    {
     "name": "stderr",
     "output_type": "stream",
     "text": [
      "WARNING: Ignoring invalid distribution -ympy (c:\\users\\owner\\onedrive - the ohio state university\\documents\\anaconda\\lib\\site-packages)\n",
      "WARNING: Ignoring invalid distribution -ympy (c:\\users\\owner\\onedrive - the ohio state university\\documents\\anaconda\\lib\\site-packages)\n",
      "WARNING: Ignoring invalid distribution -ympy (c:\\users\\owner\\onedrive - the ohio state university\\documents\\anaconda\\lib\\site-packages)\n",
      "WARNING: Ignoring invalid distribution -ympy (c:\\users\\owner\\onedrive - the ohio state university\\documents\\anaconda\\lib\\site-packages)\n",
      "WARNING: Ignoring invalid distribution -ympy (c:\\users\\owner\\onedrive - the ohio state university\\documents\\anaconda\\lib\\site-packages)\n",
      "WARNING: Ignoring invalid distribution -ympy (c:\\users\\owner\\onedrive - the ohio state university\\documents\\anaconda\\lib\\site-packages)\n"
     ]
    }
   ],
   "source": [
    "pip install torch\n"
   ]
  },
  {
   "cell_type": "code",
   "execution_count": 1,
   "metadata": {},
   "outputs": [],
   "source": [
    "import torch\n",
    "import torch.nn as nn\n",
    "import torch.nn.functional as F"
   ]
  },
  {
   "cell_type": "code",
   "execution_count": null,
   "metadata": {},
   "outputs": [
    {
     "data": {
      "text/plain": [
       "Index(['prev_accountsPayable', 'prev_accountsReceivable',\n",
       "       'prev_bankCashBalances', 'prev_bankOverdraft',\n",
       "       'prev_debitOwnedWithinOneYear', 'prev_financialAssets',\n",
       "       'prev_fixedAssets', 'prev_intangibleAssets', 'prev_otherCurrentAssets',\n",
       "       'prev_otherCurrentLiabilities', 'prev_otherEquity',\n",
       "       'prev_otherTermAssets', 'prev_otherTermLiabilities', 'prev_prepayments',\n",
       "       'prev_retainedEarnings', 'prev_subscribedCapital', 'prev_termLoans',\n",
       "       'prev_totalAssets', 'prev_totalCurrentAssets',\n",
       "       'prev_totalCurrentLiabilities', 'prev_totalInventories',\n",
       "       'prev_totalLiabilities', 'prev_totalShareholderEquity',\n",
       "       'prev_totalTermAssets', 'prev_totalTermLiabilities',\n",
       "       'prev_accountPayableAccrualFromCashFlow', 'prev_capitalExpenditure',\n",
       "       'prev_changeInInventoriesFromCashFlow',\n",
       "       'prev_netChangeInCashAndCashEquivalents', 'prev_netFundingCashFlow',\n",
       "       'prev_netInvestingCashFlow',\n",
       "       'prev_unbilledAccountsReceivableRevenueFromCashFlow',\n",
       "       'prev_financialDate', 'prev_abnormalItems', 'prev_amortization',\n",
       "       'prev_companyTaxExpense', 'prev_costOfGoodsSold', 'prev_depreciation',\n",
       "       'prev_earningsBeforeInterestAndTax', 'prev_grossProfit',\n",
       "       'prev_interestExpense', 'prev_interestReceived',\n",
       "       'prev_investmentIncome', 'prev_netInvestmentIncome',\n",
       "       'prev_netProfitAfterTax', 'prev_netProfitAfterTaxAndMinorityInterests',\n",
       "       'prev_netProfitBeforeTax', 'prev_netSurplus', 'prev_otherIncome',\n",
       "       'prev_otherInvestmentExpense', 'prev_otherOperatingExpense',\n",
       "       'prev_totalOperatingExpense', 'prev_totalOperatingRevenue',\n",
       "       'prev_totalStaffCosts', 'prev_salesRevenue', 'prev_eqyYear', 'prev_CHS',\n",
       "       'prev_FHR', 'diff_days', 'FHR'],\n",
       "      dtype='object')"
      ]
     },
     "execution_count": 8,
     "metadata": {},
     "output_type": "execute_result"
    }
   ],
   "source": [
    "import pandas as pd\n",
    "\n",
    "df = pd.read_csv('final_previous_merged.csv')\n",
    "\n",
    "df = pd.get_dummies(df, columns=[\"prev_currency\"], prefix=\"dummy\", drop_first=False)\n",
    "\n",
    "df.drop(columns={'prev_X.Other.Currency.to.USD', 'prev_inf_factor'}, inplace=True)\n",
    "df.columns"
   ]
  },
  {
   "cell_type": "code",
   "execution_count": 4,
   "metadata": {},
   "outputs": [],
   "source": [
    "from sklearn.model_selection import train_test_split\n",
    "\n",
    "# Drop the target column for X, keep 'FHR' as y\n",
    "X = df.drop(\"FHR\", axis=1).values  # shape: (num_samples, num_features)\n",
    "y = df[\"FHR\"].values               # shape: (num_samples,)\n",
    "\n",
    "# Split into train and test sets\n",
    "#   test_size=0.2 means 80% training, 20% testing\n",
    "X_train, X_test, y_train, y_test = train_test_split(\n",
    "    X, y, test_size=0.2, random_state=42\n",
    ")"
   ]
  },
  {
   "cell_type": "code",
   "execution_count": 5,
   "metadata": {},
   "outputs": [
    {
     "ename": "TypeError",
     "evalue": "can't convert np.ndarray of type numpy.object_. The only supported types are: float64, float32, float16, complex64, complex128, int64, int32, int16, int8, uint64, uint32, uint16, uint8, and bool.",
     "output_type": "error",
     "traceback": [
      "\u001b[1;31m---------------------------------------------------------------------------\u001b[0m",
      "\u001b[1;31mTypeError\u001b[0m                                 Traceback (most recent call last)",
      "\u001b[1;32m~\\AppData\\Local\\Temp\\ipykernel_21224\\3243415174.py\u001b[0m in \u001b[0;36m<module>\u001b[1;34m\u001b[0m\n\u001b[0;32m      1\u001b[0m \u001b[1;31m# Convert NumPy arrays to Torch tensors (float)\u001b[0m\u001b[1;33m\u001b[0m\u001b[1;33m\u001b[0m\u001b[0m\n\u001b[1;32m----> 2\u001b[1;33m \u001b[0mX_train_t\u001b[0m \u001b[1;33m=\u001b[0m \u001b[0mtorch\u001b[0m\u001b[1;33m.\u001b[0m\u001b[0mtensor\u001b[0m\u001b[1;33m(\u001b[0m\u001b[0mX_train\u001b[0m\u001b[1;33m,\u001b[0m \u001b[0mdtype\u001b[0m\u001b[1;33m=\u001b[0m\u001b[0mtorch\u001b[0m\u001b[1;33m.\u001b[0m\u001b[0mfloat32\u001b[0m\u001b[1;33m)\u001b[0m\u001b[1;33m\u001b[0m\u001b[1;33m\u001b[0m\u001b[0m\n\u001b[0m\u001b[0;32m      3\u001b[0m \u001b[0my_train_t\u001b[0m \u001b[1;33m=\u001b[0m \u001b[0mtorch\u001b[0m\u001b[1;33m.\u001b[0m\u001b[0mtensor\u001b[0m\u001b[1;33m(\u001b[0m\u001b[0my_train\u001b[0m\u001b[1;33m,\u001b[0m \u001b[0mdtype\u001b[0m\u001b[1;33m=\u001b[0m\u001b[0mtorch\u001b[0m\u001b[1;33m.\u001b[0m\u001b[0mfloat32\u001b[0m\u001b[1;33m)\u001b[0m\u001b[1;33m\u001b[0m\u001b[1;33m\u001b[0m\u001b[0m\n\u001b[0;32m      4\u001b[0m \u001b[1;33m\u001b[0m\u001b[0m\n\u001b[0;32m      5\u001b[0m \u001b[0mX_test_t\u001b[0m \u001b[1;33m=\u001b[0m \u001b[0mtorch\u001b[0m\u001b[1;33m.\u001b[0m\u001b[0mtensor\u001b[0m\u001b[1;33m(\u001b[0m\u001b[0mX_test\u001b[0m\u001b[1;33m,\u001b[0m \u001b[0mdtype\u001b[0m\u001b[1;33m=\u001b[0m\u001b[0mtorch\u001b[0m\u001b[1;33m.\u001b[0m\u001b[0mfloat32\u001b[0m\u001b[1;33m)\u001b[0m\u001b[1;33m\u001b[0m\u001b[1;33m\u001b[0m\u001b[0m\n",
      "\u001b[1;31mTypeError\u001b[0m: can't convert np.ndarray of type numpy.object_. The only supported types are: float64, float32, float16, complex64, complex128, int64, int32, int16, int8, uint64, uint32, uint16, uint8, and bool."
     ]
    }
   ],
   "source": [
    "# Convert NumPy arrays to Torch tensors (float)\n",
    "X_train_t = torch.tensor(X_train, dtype=torch.float32)\n",
    "y_train_t = torch.tensor(y_train, dtype=torch.float32)\n",
    "\n",
    "X_test_t = torch.tensor(X_test, dtype=torch.float32)\n",
    "y_test_t = torch.tensor(y_test, dtype=torch.float32)"
   ]
  }
 ],
 "metadata": {
  "kernelspec": {
   "display_name": "base",
   "language": "python",
   "name": "python3"
  },
  "language_info": {
   "codemirror_mode": {
    "name": "ipython",
    "version": 3
   },
   "file_extension": ".py",
   "mimetype": "text/x-python",
   "name": "python",
   "nbconvert_exporter": "python",
   "pygments_lexer": "ipython3",
   "version": "3.9.13"
  }
 },
 "nbformat": 4,
 "nbformat_minor": 2
}
